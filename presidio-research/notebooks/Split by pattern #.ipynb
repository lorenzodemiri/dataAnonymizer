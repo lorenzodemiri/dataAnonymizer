{
 "cells": [
  {
   "cell_type": "markdown",
   "metadata": {},
   "source": [
    "### Train/Test/Validation split of input samples. \n",
    "This notebook shows how train/test/split is being made on a List[InputSample]\n",
    "\n",
    "This is different from the normal split since we don't want sentences generated from the same pattern to be in more than one set. (Applicable only if the dataset was generated from templates)"
   ]
  },
  {
   "cell_type": "code",
   "execution_count": null,
   "metadata": {},
   "outputs": [],
   "source": [
    "from presidio_evaluator import InputSample\n",
    "from presidio_evaluator.data_generator import read_synth_dataset\n",
    "from presidio_evaluator.validation import split_dataset, save_to_json\n",
    "from datetime import date\n",
    "\n",
    "%reload_ext autoreload"
   ]
  },
  {
   "cell_type": "markdown",
   "metadata": {},
   "source": [
    "Load full dataset"
   ]
  },
  {
   "cell_type": "code",
   "execution_count": null,
   "metadata": {},
   "outputs": [],
   "source": [
    "all_samples = read_synth_dataset(\"../data/synth_dataset.txt\")\n",
    "print(len(all_samples))"
   ]
  },
  {
   "cell_type": "markdown",
   "metadata": {},
   "source": [
    "Split to train/test/dev"
   ]
  },
  {
   "cell_type": "code",
   "execution_count": null,
   "metadata": {},
   "outputs": [],
   "source": [
    "\n",
    "TRAIN_TEST_VAL_RATIOS = [0.7,0.2,0.1]\n",
    "\n",
    "train, test, validation = split_dataset(all_samples,TRAIN_TEST_VAL_RATIOS)\n"
   ]
  },
  {
   "cell_type": "markdown",
   "metadata": {},
   "source": [
    "Train/Test only (no validation)\n"
   ]
  },
  {
   "cell_type": "code",
   "execution_count": null,
   "metadata": {},
   "outputs": [],
   "source": [
    "\n",
    "#TRAIN_TEST_RATIOS = [0.7,0.3]\n",
    "#train,test = split_dataset(all_sampleTRAIN_TEST_RATIOSEST_RATIOS)"
   ]
  },
  {
   "cell_type": "markdown",
   "metadata": {},
   "source": [
    "Save the different sets to files"
   ]
  },
  {
   "cell_type": "code",
   "execution_count": null,
   "metadata": {},
   "outputs": [],
   "source": [
    "DATE_DATE = date.today().strftime(\"%b-%d-%Y\")\n",
    "\n",
    "save_to_json(train,\"../data/train_{}.json\".format(DATE_DATE))\n",
    "save_to_json(test,\"../data/test_{}.json\".format(DATE_DATE))\n",
    "save_to_json(validation,\"../data/validation_{}.json\".format(DATE_DATE))\n"
   ]
  },
  {
   "cell_type": "code",
   "execution_count": null,
   "metadata": {},
   "outputs": [],
   "source": [
    "print(len(train))"
   ]
  },
  {
   "cell_type": "code",
   "execution_count": null,
   "metadata": {},
   "outputs": [],
   "source": [
    "print(len(test))"
   ]
  },
  {
   "cell_type": "code",
   "execution_count": null,
   "metadata": {},
   "outputs": [],
   "source": [
    "print(len(validation))"
   ]
  },
  {
   "cell_type": "code",
   "execution_count": null,
   "metadata": {},
   "outputs": [],
   "source": [
    "assert len(train) + len(test) + len(validation) == len(all_samples)"
   ]
  },
  {
   "cell_type": "code",
   "execution_count": null,
   "metadata": {},
   "outputs": [],
   "source": []
  }
 ],
 "metadata": {
  "kernelspec": {
   "display_name": "presidio-research",
   "language": "python",
   "name": "presidio-research"
  }
 },
 "nbformat": 4,
 "nbformat_minor": 2
}