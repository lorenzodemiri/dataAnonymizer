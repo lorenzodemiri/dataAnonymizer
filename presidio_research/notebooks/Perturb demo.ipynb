{
 "cells": [
  {
   "cell_type": "markdown",
   "metadata": {},
   "source": [
    "## PII data perturbation demo\n",
    "\n",
    "In this demo we call Presidio (through it's Python interface) and then replace the detected entities with fake ones, using the same techniques in the `FakeDataGenerator` object.\n",
    "\n",
    "The `PresidioPerturb` class as a wrapper on top of `FakeDataGenerator` which accepts a presidio analyzer response and creates fake sentences based on the original ones.\n"
   ]
  },
  {
   "cell_type": "code",
   "execution_count": null,
   "metadata": {
    "pycharm": {
     "name": "#%%\n"
    }
   },
   "outputs": [],
   "source": [
    "# install presidio via pip if not yet installed\n",
    "\n",
    "#!pip install presidio-analyzer\n",
    "#!pip install presidio-anonymizer"
   ]
  },
  {
   "cell_type": "code",
   "execution_count": null,
   "metadata": {
    "pycharm": {
     "name": "#%%\n"
    }
   },
   "outputs": [],
   "source": [
    "from presidio_analyzer import AnalyzerEngine\n",
    "from presidio_evaluator.data_generator.presidio_perturb import PresidioPerturb\n",
    "\n",
    "import pandas as pd"
   ]
  },
  {
   "cell_type": "code",
   "execution_count": null,
   "metadata": {
    "pycharm": {
     "name": "#%%\n"
    }
   },
   "outputs": [],
   "source": [
    "# Set up the fake PII data frame\n",
    "\n",
    "fake_pii_csv = '../presidio_evaluator/data_generator/raw_data/FakeNameGenerator.com_3000.csv'\n",
    "\n",
    "fake_pii_df = pd.read_csv(fake_pii_csv, encoding='utf-8')\n",
    "fake_pii_df.head()"
   ]
  },
  {
   "cell_type": "code",
   "execution_count": null,
   "metadata": {
    "pycharm": {
     "name": "#%%\n"
    }
   },
   "outputs": [],
   "source": [
    "# Instantiate Presidio Analyzer\n",
    "\n",
    "analyzer = AnalyzerEngine()"
   ]
  },
  {
   "cell_type": "code",
   "execution_count": null,
   "metadata": {
    "pycharm": {
     "name": "#%%\n"
    }
   },
   "outputs": [],
   "source": [
    "presidio_perturb = PresidioPerturb(fake_pii_df=fake_pii_df)"
   ]
  },
  {
   "cell_type": "code",
   "execution_count": null,
   "metadata": {
    "pycharm": {
     "name": "#%%\n"
    }
   },
   "outputs": [],
   "source": [
    "original_text = \"Hi my name is Doug Funny and this is my website: https://www.dougf.io/\"\n",
    "\n",
    "presidio_response = analyzer.analyze(original_text,language='en')\n",
    "presidio_response\n"
   ]
  },
  {
   "cell_type": "code",
   "execution_count": null,
   "metadata": {
    "pycharm": {
     "name": "#%%\n"
    }
   },
   "outputs": [],
   "source": [
    "# Simple perturbation\n",
    "\n",
    "presidio_perturb.perturb(original_text=original_text, presidio_response=presidio_response,count=5)"
   ]
  },
  {
   "cell_type": "code",
   "execution_count": null,
   "metadata": {
    "pycharm": {
     "name": "#%%\n"
    }
   },
   "outputs": [],
   "source": [
    "# Restrict name sets\n",
    "presidio_perturb.perturb(original_text=original_text, presidio_response=presidio_response,count=5,\n",
    "                         namesets=['Dutch'])\n"
   ]
  },
  {
   "cell_type": "code",
   "execution_count": null,
   "metadata": {
    "pycharm": {
     "name": "#%%\n"
    }
   },
   "outputs": [],
   "source": [
    "# Restrict name set and gender\n",
    "presidio_perturb.perturb(original_text=original_text,\n",
    "                         presidio_response=presidio_response,\n",
    "                         count=500,\n",
    "                         namesets=['American','Brazil'], genders=['female'])"
   ]
  },
  {
   "cell_type": "code",
   "execution_count": null,
   "metadata": {
    "pycharm": {
     "name": "#%%\n"
    }
   },
   "outputs": [],
   "source": [
    "# When Presidio fails to detect an entity, it will be available in the fake samples!\n",
    "\n",
    "text = \"Our son asdfhlk used to work in Germany\"\n",
    "\n",
    "response = analyzer.analyze(text=text,language='en')\n",
    "print(f\"Presidio' response: {response}\")\n",
    "\n",
    "\n",
    "fake_samples = presidio_perturb.perturb(original_text=text,presidio_response=response,count=5)\n",
    "print(f\"-------------\\nFake examples:\\n\")\n",
    "print(*fake_samples, sep = \"\\n\")"
   ]
  },
  {
   "cell_type": "code",
   "execution_count": null,
   "metadata": {
    "pycharm": {
     "name": "#%%\n"
    }
   },
   "outputs": [],
   "source": []
  }
 ],
 "metadata": {
  "kernelspec": {
   "display_name": "presidio-research",
   "language": "python",
   "name": "presidio-research"
  },
  "language_info": {
   "codemirror_mode": {
    "name": "ipython",
    "version": 3
   },
   "file_extension": ".py",
   "mimetype": "text/x-python",
   "name": "python",
   "nbconvert_exporter": "python",
   "pygments_lexer": "ipython3",
   "version": "3.8.8"
  }
 },
 "nbformat": 4,
 "nbformat_minor": 1
}
